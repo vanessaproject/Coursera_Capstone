{
    "cells": [
        {
            "metadata": {
                "collapsed": true
            },
            "cell_type": "markdown",
            "source": "**Capstone Project - The Battle of Neighborhoods W1**\n"
        },
        {
            "metadata": {},
            "cell_type": "markdown",
            "source": "**Introduction | Business Problem**\n\n"
        },
        {
            "metadata": {},
            "cell_type": "markdown",
            "source": "This project will explore the cities of Los Angeles and see a potential area to open a Asian Fusion restaurant. Los Angeles is a big city and finding a good area to open a establishment can be very challenging.\n\nUsing Data Scraping and Foursquare location will help get insight where to establish a restaurant or a business. The resulting data will help potential stakeholders to decide where to invest."
        },
        {
            "metadata": {},
            "cell_type": "markdown",
            "source": "**Data**"
        },
        {
            "metadata": {},
            "cell_type": "markdown",
            "source": "The source data will be coming from the following:\n\n**Python Beautifulsoup package**\nScraping data from Wikipeadia,https://en.wikipedia.org/wiki/List_of_cities_in_Los_Angeles_County,_California.\n\n**Geocoder**\nGetting the Longtitude and Latitude of the neighborhood.\n\n**Foursquare API**\n\nTo get the venue data of the neighborhoods."
        },
        {
            "metadata": {},
            "cell_type": "markdown",
            "source": "**Data Description**"
        },
        {
            "metadata": {},
            "cell_type": "markdown",
            "source": "Based on criteria listed above the following data will be utilized in our analysis:\n\nDetermine restaurants within a certain radius of each neighborhood \nDetermine the population witin the certain radius, https://en.wikipedia.org/wiki/Los_Angeles_County,_California#Communities\nGet the demographic in each area, https://en.wikipedia.org/wiki/Los_Angeles_County,_California#Communities\n\n"
        },
        {
            "metadata": {},
            "cell_type": "markdown",
            "source": "**Methodology**"
        },
        {
            "metadata": {},
            "cell_type": "markdown",
            "source": "1. Import and install all libraries needed \n2. Scrape data from Wikipeadia source: https://en.wikipedia.org/wiki/Los_Angeles_County,_California#Communities \nto create dataframes and segment districts or neighborhoods. \n3. Use Geocoder to get longtitude and latitude coordinates. Gather data and visualize it \n4. Use Foursquare API to get the top 50 venues in 500 mile radius. Analyze data that is returned by category. \n5. Use K-means Clustering to identify the number of centroids and allocate datapoints to the nearest cluster \n6. Categorize the clusters based on occurence of a restaurant\n"
        },
        {
            "metadata": {},
            "cell_type": "code",
            "source": "",
            "execution_count": null,
            "outputs": []
        }
    ],
    "metadata": {
        "kernelspec": {
            "name": "python3",
            "display_name": "Python 3.7",
            "language": "python"
        },
        "language_info": {
            "name": "python",
            "version": "3.7.9",
            "mimetype": "text/x-python",
            "codemirror_mode": {
                "name": "ipython",
                "version": 3
            },
            "pygments_lexer": "ipython3",
            "nbconvert_exporter": "python",
            "file_extension": ".py"
        }
    },
    "nbformat": 4,
    "nbformat_minor": 1
}